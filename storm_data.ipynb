{
 "cells": [
  {
   "cell_type": "code",
   "execution_count": 21,
   "metadata": {},
   "outputs": [],
   "source": [
    "import csv\n",
    "import psycopg2\n",
    "from datetime import datetime"
   ]
  },
  {
   "cell_type": "code",
   "execution_count": 9,
   "metadata": {},
   "outputs": [],
   "source": [
    "# requires postgres db\n",
    "conn = psycopg2.connect(dbname='postgres', user='postgres', password='postgres')\n",
    "conn.autocommit = True"
   ]
  },
  {
   "cell_type": "code",
   "execution_count": 10,
   "metadata": {},
   "outputs": [],
   "source": [
    "cur = conn.cursor()"
   ]
  },
  {
   "cell_type": "code",
   "execution_count": 11,
   "metadata": {},
   "outputs": [],
   "source": [
    "cur.execute('create user jk')"
   ]
  },
  {
   "cell_type": "code",
   "execution_count": 13,
   "metadata": {},
   "outputs": [
    {
     "ename": "ProgrammingError",
     "evalue": "database \"storm_data\" already exists\n",
     "output_type": "error",
     "traceback": [
      "\u001b[1;31m---------------------------------------------------------------------------\u001b[0m",
      "\u001b[1;31mProgrammingError\u001b[0m                          Traceback (most recent call last)",
      "\u001b[1;32m<ipython-input-13-0193a22b68c5>\u001b[0m in \u001b[0;36m<module>\u001b[1;34m()\u001b[0m\n\u001b[1;32m----> 1\u001b[1;33m \u001b[0mcur\u001b[0m\u001b[1;33m.\u001b[0m\u001b[0mexecute\u001b[0m\u001b[1;33m(\u001b[0m\u001b[1;34m'create database storm_data owner jk'\u001b[0m\u001b[1;33m)\u001b[0m\u001b[1;33m\u001b[0m\u001b[0m\n\u001b[0m",
      "\u001b[1;31mProgrammingError\u001b[0m: database \"storm_data\" already exists\n"
     ]
    }
   ],
   "source": [
    "cur.execute('create database storm_data owner jk')"
   ]
  },
  {
   "cell_type": "code",
   "execution_count": 14,
   "metadata": {},
   "outputs": [],
   "source": [
    "conn = psycopg2.connect(dbname='storm_data', user='jk')"
   ]
  },
  {
   "cell_type": "code",
   "execution_count": 15,
   "metadata": {},
   "outputs": [],
   "source": [
    "cur = conn.cursor()"
   ]
  },
  {
   "cell_type": "code",
   "execution_count": 37,
   "metadata": {},
   "outputs": [],
   "source": [
    "cur.execute('''drop table if exists storm_data''')\n",
    "cur.execute('''create table if not exists storm_data (fid int primary key, date timestamp, btid int, name text,\n",
    "            lat decimal(3,1), long decimal(4,1), wind_kts int, pressure int, cat text, basin text, shape_leng decimal(8,6))''')\n",
    "conn.commit()"
   ]
  },
  {
   "cell_type": "code",
   "execution_count": 20,
   "metadata": {},
   "outputs": [],
   "source": [
    "conn.commit()"
   ]
  },
  {
   "cell_type": "code",
   "execution_count": 38,
   "metadata": {},
   "outputs": [],
   "source": [
    "with open('storm_data.csv', 'r') as f:\n",
    "    reader = csv.reader(f)\n",
    "    next(f)\n",
    "    for row in reader:\n",
    "        update = [row[0]]\n",
    "        update.append(datetime(year=int(row[1]), month=int(row[2]), day=int(row[3]), hour=int(row[4][:2]), minute=int(row[4][2:4])))\n",
    "        update.extend(row[5:])\n",
    "        #x = update\n",
    "        #mogrified = cur.mogrify('%s, %s, %s, %s, %s, %s, %s, %s, %s, %s, %s', update).decode('utf-8')\n",
    "        cur.execute('''insert into storm_data values(%s, %s, %s, %s, %s, %s, %s, %s, %s, %s, %s)''', update)\n",
    "    conn.commit()\n",
    "    #print(x)"
   ]
  },
  {
   "cell_type": "code",
   "execution_count": 40,
   "metadata": {},
   "outputs": [
    {
     "name": "stdout",
     "output_type": "stream",
     "text": [
      "(2001, datetime.datetime(1957, 8, 8, 18, 0), 63, 'NOTNAMED', Decimal('22.5'), Decimal('-140.0'), 50, 0, 'TS', 'Eastern Pacific', Decimal('1.140175'))\n",
      "(2002, datetime.datetime(1961, 10, 3, 12, 0), 116, 'PAULINE', Decimal('22.1'), Decimal('-140.2'), 45, 0, 'TS', 'Eastern Pacific', Decimal('1.166190'))\n",
      "(2003, datetime.datetime(1962, 8, 29, 6, 0), 124, 'C', Decimal('18.0'), Decimal('-140.0'), 45, 0, 'TS', 'Eastern Pacific', Decimal('2.102380'))\n",
      "(2004, datetime.datetime(1967, 7, 14, 6, 0), 168, 'DENISE', Decimal('16.6'), Decimal('-139.5'), 45, 0, 'TS', 'Eastern Pacific', Decimal('2.121320'))\n",
      "(2005, datetime.datetime(1972, 8, 16, 12, 0), 251, 'DIANA', Decimal('18.5'), Decimal('-139.8'), 70, 0, 'H1', 'Eastern Pacific', Decimal('1.702939'))\n",
      "(2006, datetime.datetime(1976, 7, 22, 0, 0), 312, 'DIANA', Decimal('18.6'), Decimal('-139.8'), 30, 0, 'TD', 'Eastern Pacific', Decimal('1.600000'))\n",
      "(2007, datetime.datetime(1978, 8, 26, 12, 0), 342, 'KRISTY', Decimal('21.4'), Decimal('-140.2'), 45, 0, 'TS', 'Eastern Pacific', Decimal('1.303840'))\n",
      "(2008, datetime.datetime(1980, 9, 24, 18, 0), 371, 'KAY', Decimal('20.5'), Decimal('-140.2'), 75, 0, 'H1', 'Eastern Pacific', Decimal('1.220656'))\n",
      "(2009, datetime.datetime(1970, 8, 23, 0, 0), 223, 'MAGGIE', Decimal('14.9'), Decimal('-139.4'), 45, 0, 'TS', 'Eastern Pacific', Decimal('0.921954'))\n",
      "(2010, datetime.datetime(1981, 8, 21, 0, 0), 381, 'GREG', Decimal('18.7'), Decimal('-140.2'), 45, 0, 'TS', 'Eastern Pacific', Decimal('0.921954'))\n"
     ]
    }
   ],
   "source": [
    "cur.execute('select * from storm_data limit 10')\n",
    "for a in cur.fetchall():\n",
    "    print(a)"
   ]
  },
  {
   "cell_type": "code",
   "execution_count": 44,
   "metadata": {},
   "outputs": [],
   "source": [
    "conn = psycopg2.connect(dbname='storm_data', user='postgres')\n",
    "cur = conn.cursor()\n",
    "cur.execute('create group readonly nologin')"
   ]
  },
  {
   "cell_type": "code",
   "execution_count": 49,
   "metadata": {},
   "outputs": [],
   "source": [
    "conn.rollback()\n",
    "cur.execute('create group readonly nologin')\n",
    "cur.execute('''revoke all on storm_data from readonly;\n",
    "            grant select on storm_data to readonly;\n",
    "            create user analyst;\n",
    "            grant readonly to analyst\n",
    "            ''')\n",
    "conn.commit()"
   ]
  },
  {
   "cell_type": "code",
   "execution_count": 52,
   "metadata": {},
   "outputs": [
    {
     "ename": "ValueError",
     "evalue": "invalid literal for int() with base 10: '1851-06-25 00:00:00'",
     "output_type": "error",
     "traceback": [
      "\u001b[1;31m---------------------------------------------------------------------------\u001b[0m",
      "\u001b[1;31mValueError\u001b[0m                                Traceback (most recent call last)",
      "\u001b[1;32m<ipython-input-52-59efefb33f02>\u001b[0m in \u001b[0;36m<module>\u001b[1;34m()\u001b[0m\n\u001b[0;32m      4\u001b[0m     \u001b[1;32mfor\u001b[0m \u001b[0mrow\u001b[0m \u001b[1;32min\u001b[0m \u001b[0mreader\u001b[0m\u001b[1;33m:\u001b[0m\u001b[1;33m\u001b[0m\u001b[0m\n\u001b[0;32m      5\u001b[0m         \u001b[0mupdate\u001b[0m \u001b[1;33m=\u001b[0m \u001b[1;33m[\u001b[0m\u001b[0mrow\u001b[0m\u001b[1;33m[\u001b[0m\u001b[1;36m0\u001b[0m\u001b[1;33m]\u001b[0m\u001b[1;33m]\u001b[0m\u001b[1;33m\u001b[0m\u001b[0m\n\u001b[1;32m----> 6\u001b[1;33m         \u001b[0mupdate\u001b[0m\u001b[1;33m.\u001b[0m\u001b[0mappend\u001b[0m\u001b[1;33m(\u001b[0m\u001b[0mdatetime\u001b[0m\u001b[1;33m(\u001b[0m\u001b[0myear\u001b[0m\u001b[1;33m=\u001b[0m\u001b[0mint\u001b[0m\u001b[1;33m(\u001b[0m\u001b[0mrow\u001b[0m\u001b[1;33m[\u001b[0m\u001b[1;36m1\u001b[0m\u001b[1;33m]\u001b[0m\u001b[1;33m)\u001b[0m\u001b[1;33m,\u001b[0m \u001b[0mmonth\u001b[0m\u001b[1;33m=\u001b[0m\u001b[0mint\u001b[0m\u001b[1;33m(\u001b[0m\u001b[0mrow\u001b[0m\u001b[1;33m[\u001b[0m\u001b[1;36m2\u001b[0m\u001b[1;33m]\u001b[0m\u001b[1;33m)\u001b[0m\u001b[1;33m,\u001b[0m \u001b[0mday\u001b[0m\u001b[1;33m=\u001b[0m\u001b[0mint\u001b[0m\u001b[1;33m(\u001b[0m\u001b[0mrow\u001b[0m\u001b[1;33m[\u001b[0m\u001b[1;36m3\u001b[0m\u001b[1;33m]\u001b[0m\u001b[1;33m)\u001b[0m\u001b[1;33m,\u001b[0m \u001b[0mhour\u001b[0m\u001b[1;33m=\u001b[0m\u001b[0mint\u001b[0m\u001b[1;33m(\u001b[0m\u001b[0mrow\u001b[0m\u001b[1;33m[\u001b[0m\u001b[1;36m4\u001b[0m\u001b[1;33m]\u001b[0m\u001b[1;33m[\u001b[0m\u001b[1;33m:\u001b[0m\u001b[1;36m2\u001b[0m\u001b[1;33m]\u001b[0m\u001b[1;33m)\u001b[0m\u001b[1;33m,\u001b[0m \u001b[0mminute\u001b[0m\u001b[1;33m=\u001b[0m\u001b[0mint\u001b[0m\u001b[1;33m(\u001b[0m\u001b[0mrow\u001b[0m\u001b[1;33m[\u001b[0m\u001b[1;36m4\u001b[0m\u001b[1;33m]\u001b[0m\u001b[1;33m[\u001b[0m\u001b[1;36m2\u001b[0m\u001b[1;33m:\u001b[0m\u001b[1;36m4\u001b[0m\u001b[1;33m]\u001b[0m\u001b[1;33m)\u001b[0m\u001b[1;33m)\u001b[0m\u001b[1;33m)\u001b[0m\u001b[1;33m\u001b[0m\u001b[0m\n\u001b[0m\u001b[0;32m      7\u001b[0m         \u001b[0mupdate\u001b[0m\u001b[1;33m.\u001b[0m\u001b[0mextend\u001b[0m\u001b[1;33m(\u001b[0m\u001b[0mrow\u001b[0m\u001b[1;33m[\u001b[0m\u001b[1;36m5\u001b[0m\u001b[1;33m:\u001b[0m\u001b[1;33m]\u001b[0m\u001b[1;33m)\u001b[0m\u001b[1;33m\u001b[0m\u001b[0m\n\u001b[0;32m      8\u001b[0m         \u001b[0mx\u001b[0m \u001b[1;33m=\u001b[0m \u001b[0mupdate\u001b[0m\u001b[1;33m\u001b[0m\u001b[0m\n",
      "\u001b[1;31mValueError\u001b[0m: invalid literal for int() with base 10: '1851-06-25 00:00:00'"
     ]
    }
   ],
   "source": [
    "# trying with additional data but it seems like it requires parsing as the columns don't match up.\n",
    "with open('storm_data_additional.csv', 'r') as f:\n",
    "    reader = csv.reader(f)\n",
    "    next(f)\n",
    "    for row in reader:\n",
    "        update = [row[0]]\n",
    "        update.append(datetime(year=int(row[1]), month=int(row[2]), day=int(row[3]), hour=int(row[4][:2]), minute=int(row[4][2:4])))\n",
    "        update.extend(row[5:])\n",
    "        x = update\n",
    "        #mogrified = cur.mogrify('%s, %s, %s, %s, %s, %s, %s, %s, %s, %s, %s', update).decode('utf-8')\n",
    "        #cur.execute('''insert into storm_data values(%s, %s, %s, %s, %s, %s, %s, %s, %s, %s, %s)''', update)\n",
    "    #conn.commit()\n",
    "    print(x)"
   ]
  },
  {
   "cell_type": "code",
   "execution_count": null,
   "metadata": {},
   "outputs": [],
   "source": [
    "# with open('storm_data_additional.csv', 'r') as f:\n",
    "    reader = csv.reader(f)\n",
    "    next(f)\n",
    "    for row in reader:\n",
    "        print(row)"
   ]
  },
  {
   "cell_type": "code",
   "execution_count": null,
   "metadata": {},
   "outputs": [],
   "source": []
  }
 ],
 "metadata": {
  "kernelspec": {
   "display_name": "Python 3",
   "language": "python",
   "name": "python3"
  },
  "language_info": {
   "codemirror_mode": {
    "name": "ipython",
    "version": 3
   },
   "file_extension": ".py",
   "mimetype": "text/x-python",
   "name": "python",
   "nbconvert_exporter": "python",
   "pygments_lexer": "ipython3",
   "version": "3.6.2"
  }
 },
 "nbformat": 4,
 "nbformat_minor": 2
}
